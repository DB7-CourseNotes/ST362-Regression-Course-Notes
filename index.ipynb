{
  "cells": [
    {
      "cell_type": "markdown",
      "metadata": {},
      "source": [
        "# Introduction {.unnumbered}\n",
        "\n",
        "This book is very much a work in progress. There are missing sections and typos in the slides. \n",
        "\n",
        "## About This Book\n",
        "\n",
        "This book contains the course notes for the Spring 2023 offering of ST362 Regression Analysis, based on the following sources:\n",
        "\n",
        "- *Applied Regression Analysis*, 3rd edition, by Draper and Smith \n",
        "    - A PDF of this textbook is available through the WLU library\n",
        "- *Introduction to Linear Regression* Anaysis by Montgomery\n",
        "    - This textbook is excellent but expensive, and I am striving to use free and OER materials.\n",
        "- The online course notes from [Stat 501](https://online.stat.psu.edu/stat501/lesson/1) at Penn State.\n",
        "\n",
        "This is a quarto book based on my lecture slides. The \"Lectures\" are quarto files that were converted into PDF beamer slides. I have included the configs to render the slides. To re-create my slides, you can use the code:\n",
        "\n",
        "\n",
        "```{terminal}\n",
        "quarto render L01-Introduction.qmd --profile slides\n",
        "```"
      ],
      "id": "27057bd2"
    }
  ],
  "metadata": {
    "kernelspec": {
      "name": "python3",
      "language": "python",
      "display_name": "Python 3 (ipykernel)"
    }
  },
  "nbformat": 4,
  "nbformat_minor": 5
}